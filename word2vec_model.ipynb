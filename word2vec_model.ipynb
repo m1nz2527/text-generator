{
 "cells": [
  {
   "cell_type": "markdown",
   "metadata": {},
   "source": [
    "## Reference\n",
    "<pre>\n",
    "http://adventuresinmachinelearning.com/word2vec-tutorial-tensorflow/\n",
    "http://adventuresinmachinelearning.com/gensim-word2vec-tutorial/\n",
    "http://kavita-ganesan.com/gensim-word2vec-tutorial-starter-code/#.WuzEqohuaUk (about parameter of Word2Vec)\n",
    "https://www.kaggle.com/jeffd23/visualizing-word-vectors-with-t-sne (about Visualization with TSNE)"
   ]
  },
  {
   "cell_type": "markdown",
   "metadata": {},
   "source": [
    "## Package"
   ]
  },
  {
   "cell_type": "code",
   "execution_count": 7,
   "metadata": {},
   "outputs": [],
   "source": [
    "import pandas as pd\n",
    "import numpy as np\n",
    "import re\n",
    "import os\n",
    "\n",
    "import gensim\n",
    "\n",
    "from sklearn.manifold import TSNE\n",
    "import matplotlib.pyplot as plt"
   ]
  },
  {
   "cell_type": "markdown",
   "metadata": {},
   "source": [
    "## Steps\n",
    "<pre>\n",
    "1. Clean the data\n",
    "2. Build a corpus(a list of lists containing words from each lyrics)\n",
    "3. Train a Word2Vec model\n",
    "4. Visualize t-SNE representation of the most common words"
   ]
  },
  {
   "cell_type": "markdown",
   "metadata": {},
   "source": [
    "## Summary"
   ]
  },
  {
   "cell_type": "code",
   "execution_count": 8,
   "metadata": {},
   "outputs": [],
   "source": [
    "\n",
    "os.chdir(\"C:\\\\Users\\\\snuist\\\\Desktop\\\\Git\\\\text-generator\")\n",
    "\n",
    "#import data\n",
    "top100artist = pd.read_csv('./data/top100artist.csv', header=None) #raw data\n",
    "data = top100artist.copy()\n",
    "#set columns\n",
    "data.columns = ['artist', 'song', 'link', 'text']\n",
    "lyrics = data['text']\n",
    "\n",
    "#data_cleansing\n",
    "def data_cleansing(data):\n",
    "    lyrics = str(data)\n",
    "    lyrics = lyrics.lower()\n",
    "    lyrics = lyrics.replace('\\r', ' ')\n",
    "    lyrics = lyrics.replace('\\n', ' ')\n",
    "    lyrics = lyrics.replace('.', ' EOS ') # . -> End Of Sentence\n",
    "    lyrics = lyrics.replace('?', ' QM ') # ? -> Q (Question mark)\n",
    "    lyrics = lyrics.replace('!', ' EM ') # ! -> EM (Exclamation mark)\n",
    "    lyrics = lyrics.replace(',', ' COMMA ') # , -> Comma\n",
    "    lyrics = lyrics.replace(\"'\", '') # for he's -> hes, it's -> its, don't -> dont\n",
    "    lyrics = re.sub(\"[^a-zA-Z]\",\" \", lyrics)\n",
    "    return lyrics + \"END\" # End of one song \n",
    "\n",
    "#cleansing all lyrics and making word tokens list\n",
    "words = [] #A list of all lyric tokens\n",
    "for i in range(len(lyrics)):\n",
    "    tokens = data_cleansing(lyrics[i]).split()\n",
    "    words.append(tokens)\n",
    "\n",
    "#Building vocabulary and Training the word2vec model\n",
    "model = gensim.models.Word2Vec(words,\n",
    "                               iter = 10, #the number of iteration(epochs) over the corpus\n",
    "                               size=300, #the size of the dense vector to represent each token. \n",
    "                               window=10, #the maximum distance between the target word and it's neighboring word.\n",
    "                               min_count=300,\n",
    "                               workers=10)\n",
    "\n",
    "# save and reload the model\n",
    "#model.save(\"word2vec_model\")\n",
    "#model = gensim.models.Word2Vec.load(\"word2vec_model\")\n",
    "\n",
    "#Word Vector visualization with T-SNE\n",
    "def tsne_plot(model):\n",
    "    \"Creates and TSNE model and plots it\"\n",
    "    labels = []\n",
    "    tokens = []\n",
    "    \n",
    "    STOP_WORDS = nltk.corpus.stopwords.words()\n",
    "    REPLACED_WORDS = ['EOS', 'QM', 'EM', 'COMMA', 'END']\n",
    "    STOP_WORDS.extend(REPLACED_WORDS)\n",
    "    \n",
    "    for word in model.wv.vocab:        \n",
    "        if word not in STOP_WORDS:\n",
    "            tokens.append(model.wv[word])\n",
    "            labels.append(word)\n",
    "\n",
    "    tsne_model = TSNE(perplexity=40, n_components=2, init='pca', n_iter=250, random_state=23)\n",
    "    new_values = tsne_model.fit_transform(tokens)\n",
    "\n",
    "    x = []\n",
    "    y = []\n",
    "    for value in new_values:\n",
    "        x.append(value[0])\n",
    "        y.append(value[1])\n",
    "\n",
    "    plt.figure(figsize=(16, 16)) \n",
    "    for i in range(len(x)):\n",
    "        plt.scatter(x[i],y[i])\n",
    "        plt.annotate(labels[i],\n",
    "                     xy=(x[i], y[i]),\n",
    "                     xytext=(5, 2),\n",
    "                     textcoords='offset points',\n",
    "                     ha='right',\n",
    "                     va='bottom')\n",
    "                \n",
    "    plt.show()\n",
    "    \n",
    "tsne_plot(model)\n"
   ]
  },
  {
   "cell_type": "markdown",
   "metadata": {},
   "source": [
    "## All codes (include .head()...)"
   ]
  },
  {
   "cell_type": "code",
   "execution_count": 182,
   "metadata": {
    "collapsed": true
   },
   "outputs": [],
   "source": [
    "os.chdir(\"C:\\\\Users\\\\snuist\\\\Desktop\\\\Git\\\\text-generator\")"
   ]
  },
  {
   "cell_type": "code",
   "execution_count": 183,
   "metadata": {
    "collapsed": true
   },
   "outputs": [],
   "source": [
    "#import data\n",
    "top100artist = pd.read_csv('./data/top100artist.csv', header=None)"
   ]
  },
  {
   "cell_type": "code",
   "execution_count": 184,
   "metadata": {
    "collapsed": true
   },
   "outputs": [],
   "source": [
    "data = top100artist.copy()"
   ]
  },
  {
   "cell_type": "code",
   "execution_count": 185,
   "metadata": {},
   "outputs": [
    {
     "data": {
      "text/html": [
       "<div>\n",
       "<style>\n",
       "    .dataframe thead tr:only-child th {\n",
       "        text-align: right;\n",
       "    }\n",
       "\n",
       "    .dataframe thead th {\n",
       "        text-align: left;\n",
       "    }\n",
       "\n",
       "    .dataframe tbody tr th {\n",
       "        vertical-align: top;\n",
       "    }\n",
       "</style>\n",
       "<table border=\"1\" class=\"dataframe\">\n",
       "  <thead>\n",
       "    <tr style=\"text-align: right;\">\n",
       "      <th></th>\n",
       "      <th>artist</th>\n",
       "      <th>song</th>\n",
       "      <th>link</th>\n",
       "      <th>text</th>\n",
       "    </tr>\n",
       "  </thead>\n",
       "  <tbody>\n",
       "    <tr>\n",
       "      <th>0</th>\n",
       "      <td>Aerosmith</td>\n",
       "      <td>All Your Love</td>\n",
       "      <td>/a/aerosmith/all+your+love_20004378.html</td>\n",
       "      <td>All your love I miss lovin'  \\r\\nAll your kiss...</td>\n",
       "    </tr>\n",
       "    <tr>\n",
       "      <th>1</th>\n",
       "      <td>Aerosmith</td>\n",
       "      <td>Bacon Biscuit Blues</td>\n",
       "      <td>/a/aerosmith/bacon+biscuit+blues_20004481.html</td>\n",
       "      <td>Put your biscuits in the oven  \\r\\nHoney, put ...</td>\n",
       "    </tr>\n",
       "    <tr>\n",
       "      <th>2</th>\n",
       "      <td>Aerosmith</td>\n",
       "      <td>Blind Man</td>\n",
       "      <td>/a/aerosmith/blind+man_20004145.html</td>\n",
       "      <td>I took a course in hallelujah  \\r\\nI went to n...</td>\n",
       "    </tr>\n",
       "    <tr>\n",
       "      <th>3</th>\n",
       "      <td>Aerosmith</td>\n",
       "      <td>Draw The Line</td>\n",
       "      <td>/a/aerosmith/draw+the+line_20004388.html</td>\n",
       "      <td>Checkmate honey, beat ya at your own damn game...</td>\n",
       "    </tr>\n",
       "    <tr>\n",
       "      <th>4</th>\n",
       "      <td>Aerosmith</td>\n",
       "      <td>Eat The Rich</td>\n",
       "      <td>/a/aerosmith/eat+the+rich_20004281.html</td>\n",
       "      <td>Well I woke up this morning  \\r\\nOn the wrong ...</td>\n",
       "    </tr>\n",
       "  </tbody>\n",
       "</table>\n",
       "</div>"
      ],
      "text/plain": [
       "      artist                 song  \\\n",
       "0  Aerosmith        All Your Love   \n",
       "1  Aerosmith  Bacon Biscuit Blues   \n",
       "2  Aerosmith            Blind Man   \n",
       "3  Aerosmith        Draw The Line   \n",
       "4  Aerosmith         Eat The Rich   \n",
       "\n",
       "                                             link  \\\n",
       "0        /a/aerosmith/all+your+love_20004378.html   \n",
       "1  /a/aerosmith/bacon+biscuit+blues_20004481.html   \n",
       "2            /a/aerosmith/blind+man_20004145.html   \n",
       "3        /a/aerosmith/draw+the+line_20004388.html   \n",
       "4         /a/aerosmith/eat+the+rich_20004281.html   \n",
       "\n",
       "                                                text  \n",
       "0  All your love I miss lovin'  \\r\\nAll your kiss...  \n",
       "1  Put your biscuits in the oven  \\r\\nHoney, put ...  \n",
       "2  I took a course in hallelujah  \\r\\nI went to n...  \n",
       "3  Checkmate honey, beat ya at your own damn game...  \n",
       "4  Well I woke up this morning  \\r\\nOn the wrong ...  "
      ]
     },
     "execution_count": 185,
     "metadata": {},
     "output_type": "execute_result"
    }
   ],
   "source": [
    "#set columns\n",
    "data.columns = ['artist', 'song', 'link', 'text']\n",
    "data.head()"
   ]
  },
  {
   "cell_type": "code",
   "execution_count": 186,
   "metadata": {},
   "outputs": [
    {
     "data": {
      "text/plain": [
       "(17219, 4)"
      ]
     },
     "execution_count": 186,
     "metadata": {},
     "output_type": "execute_result"
    }
   ],
   "source": [
    "data.shape"
   ]
  },
  {
   "cell_type": "code",
   "execution_count": 187,
   "metadata": {},
   "outputs": [
    {
     "data": {
      "text/plain": [
       "\"All your love I miss lovin'  \\r\\nAll your kiss I miss kissin'  \\r\\nAll your love I miss lovin'  \\r\\nAll your kiss I miss kissin'  \\r\\n  \\r\\nEver since I left you baby, I never knew what I was missin'  \\r\\nAll your love I miss lovin'  \\r\\nAll your kiss I miss kissin'  \\r\\nAll your love I miss lovin'  \\r\\nAll your kiss I miss kissin'  \\r\\nEver since I left you baby, I never knew what I was missin'  \\r\\n  \\r\\nAll your lovin pretty baby  \\r\\nThat I had in store for you  \\r\\nAll your lovin pretty baby  \\r\\nThat I had in store for you-  \\r\\nWhat could a poor boy do?  \\r\\nAll your lovin pretty baby  \\r\\nAll your lovin pretty baby  \\r\\nAll your lovin pretty baby  \\r\\nWhat could a poor boy do?  \\r\\nAll your lovin pretty babay  \\r\\nAll your kissin is kissin  \\r\\nAll the lovin you gave me pretty babay  \\r\\nEver since I left you baby,  \\r\\nI never knew what I was missin' aaaah\\r\\n\\r\\n\""
      ]
     },
     "execution_count": 187,
     "metadata": {},
     "output_type": "execute_result"
    }
   ],
   "source": [
    "lyrics = data['text']\n",
    "lyrics[0]"
   ]
  },
  {
   "cell_type": "code",
   "execution_count": 188,
   "metadata": {},
   "outputs": [
    {
     "data": {
      "text/plain": [
       "['\\n',\n",
       " '\\r',\n",
       " ' ',\n",
       " '!',\n",
       " '\"',\n",
       " \"'\",\n",
       " '(',\n",
       " ')',\n",
       " ',',\n",
       " '-',\n",
       " '.',\n",
       " '0',\n",
       " '1',\n",
       " '2',\n",
       " '3',\n",
       " '4',\n",
       " '5',\n",
       " '6',\n",
       " '7',\n",
       " '8',\n",
       " '9',\n",
       " ':',\n",
       " '?',\n",
       " 'A',\n",
       " 'B',\n",
       " 'C',\n",
       " 'D',\n",
       " 'E',\n",
       " 'F',\n",
       " 'G',\n",
       " 'H',\n",
       " 'I',\n",
       " 'J',\n",
       " 'K',\n",
       " 'L',\n",
       " 'M',\n",
       " 'N',\n",
       " 'O',\n",
       " 'P',\n",
       " 'Q',\n",
       " 'R',\n",
       " 'S',\n",
       " 'T',\n",
       " 'U',\n",
       " 'V',\n",
       " 'W',\n",
       " 'X',\n",
       " 'Y',\n",
       " 'Z',\n",
       " '[',\n",
       " ']',\n",
       " 'a',\n",
       " 'b',\n",
       " 'c',\n",
       " 'd',\n",
       " 'e',\n",
       " 'f',\n",
       " 'g',\n",
       " 'h',\n",
       " 'i',\n",
       " 'j',\n",
       " 'k',\n",
       " 'l',\n",
       " 'm',\n",
       " 'n',\n",
       " 'o',\n",
       " 'p',\n",
       " 'q',\n",
       " 'r',\n",
       " 's',\n",
       " 't',\n",
       " 'u',\n",
       " 'v',\n",
       " 'w',\n",
       " 'x',\n",
       " 'y',\n",
       " 'z']"
      ]
     },
     "execution_count": 188,
     "metadata": {},
     "output_type": "execute_result"
    }
   ],
   "source": [
    "#to check unique letters\n",
    "lyrics_characters_only = lyrics.str.cat(sep=' ')\n",
    "sorted(list(set(lyrics_characters_only)))"
   ]
  },
  {
   "cell_type": "markdown",
   "metadata": {},
   "source": [
    "## Clean the data"
   ]
  },
  {
   "cell_type": "code",
   "execution_count": 189,
   "metadata": {
    "collapsed": true
   },
   "outputs": [],
   "source": [
    "#data_cleansing\n",
    "def data_cleansing(data):\n",
    "    lyrics = str(data)\n",
    "    lyrics = lyrics.lower()\n",
    "    lyrics = lyrics.replace('\\r', ' ')\n",
    "    lyrics = lyrics.replace('\\n', ' ')\n",
    "    lyrics = lyrics.replace('.', ' EOS ') # . -> End Of Sentence\n",
    "    lyrics = lyrics.replace('?', ' QM ') # ? -> Q (Question mark)\n",
    "    lyrics = lyrics.replace('!', ' EM ') # ! -> EM (Exclamation mark)\n",
    "    lyrics = lyrics.replace(',', ' COMMA ') # , -> Comma\n",
    "    lyrics = lyrics.replace(\"'\", '') # for he's -> hes, it's -> its, don't -> dont\n",
    "    lyrics = re.sub(\"[^a-zA-Z]\",\" \", lyrics)\n",
    "    return lyrics + \"END\" # End of one song "
   ]
  },
  {
   "cell_type": "code",
   "execution_count": 190,
   "metadata": {},
   "outputs": [
    {
     "name": "stdout",
     "output_type": "stream",
     "text": [
      "theres a red house over yonder    thats where my baby stays    theres a red house over yonder    thats where my baby stays    i aint been home to see my baby    seems like    and one half days    now wait a minute    i think somethings wrong here    the key wont unlock this damn door    now wait a minute    i think somethings wrong here    the key wont unlock this fucking door    something bad just because of it    my baby dont want me no more    thats her loss COMMA  thats my gain    im gonna head out back yonder COMMA  i think    back yonder over the hill    im gonna head out back yonder COMMA  i think    yonder over the hill    over the hill    cause if my baby dont    love me no more    i know her sister will    END\n",
      "\n",
      "-----------------------------------\n",
      "\n",
      "There's a Red House over yonder  \r\n",
      "That's where my baby stays  \r\n",
      "There's a Red house over yonder  \r\n",
      "That's where my baby stays  \r\n",
      "I ain't been home to see my baby  \r\n",
      "Seems like 99 and one half days  \r\n",
      "Now wait a minute  \r\n",
      "I think something's wrong here  \r\n",
      "The key won't unlock this damn door  \r\n",
      "Now wait a minute  \r\n",
      "I think something's wrong here  \r\n",
      "The key won't unlock this fucking door  \r\n",
      "Something bad just because of it  \r\n",
      "My baby don't want me no more  \r\n",
      "That's her loss, that's my gain  \r\n",
      "I'm gonna head out back yonder, I think  \r\n",
      "Back yonder over the hill  \r\n",
      "I'm gonna head out back yonder, I think  \r\n",
      "Yonder over the hill  \r\n",
      "Over the hill  \r\n",
      "'Cause if my baby don't  \r\n",
      "Love me no more  \r\n",
      "I know her sister will\r\n",
      "\r\n",
      "\n"
     ]
    }
   ],
   "source": [
    "#to check any random lyrics\n",
    "print(data_cleansing(lyrics[44]))\n",
    "print('\\n-----------------------------------\\n')\n",
    "print(lyrics[44])"
   ]
  },
  {
   "cell_type": "code",
   "execution_count": 191,
   "metadata": {},
   "outputs": [
    {
     "data": {
      "text/plain": [
       "{' ',\n",
       " 'A',\n",
       " 'C',\n",
       " 'D',\n",
       " 'E',\n",
       " 'M',\n",
       " 'N',\n",
       " 'O',\n",
       " 'Q',\n",
       " 'S',\n",
       " 'a',\n",
       " 'b',\n",
       " 'c',\n",
       " 'd',\n",
       " 'e',\n",
       " 'f',\n",
       " 'g',\n",
       " 'h',\n",
       " 'i',\n",
       " 'j',\n",
       " 'k',\n",
       " 'l',\n",
       " 'm',\n",
       " 'n',\n",
       " 'o',\n",
       " 'p',\n",
       " 'q',\n",
       " 'r',\n",
       " 's',\n",
       " 't',\n",
       " 'u',\n",
       " 'v',\n",
       " 'w',\n",
       " 'x',\n",
       " 'y',\n",
       " 'z'}"
      ]
     },
     "execution_count": 191,
     "metadata": {},
     "output_type": "execute_result"
    }
   ],
   "source": [
    "#to check unique letters again\n",
    "cleaned_lyrics = data_cleansing(lyrics)\n",
    "set(cleaned_lyrics)"
   ]
  },
  {
   "cell_type": "markdown",
   "metadata": {},
   "source": [
    "## Build a corpus"
   ]
  },
  {
   "cell_type": "code",
   "execution_count": 192,
   "metadata": {
    "collapsed": true
   },
   "outputs": [],
   "source": [
    "#cleansing all lyrics and making word tokens list\n",
    "words = [] #A list of all lyric tokens\n",
    "for i in range(len(lyrics)):\n",
    "    tokens = data_cleansing(lyrics[i]).split()\n",
    "    words.append(tokens)"
   ]
  },
  {
   "cell_type": "code",
   "execution_count": 55,
   "metadata": {},
   "outputs": [
    {
     "name": "stdout",
     "output_type": "stream",
     "text": [
      "17219\n",
      "<class 'list'>\n",
      "[['all', 'your', 'love', 'i', 'miss', 'lovin', 'all', 'your', 'kiss', 'i', 'miss', 'kissin', 'all', 'your', 'love', 'i', 'miss', 'lovin', 'all', 'your', 'kiss', 'i', 'miss', 'kissin', 'ever', 'since', 'i', 'left', 'you', 'baby', 'COMMA', 'i', 'never', 'knew', 'what', 'i', 'was', 'missin', 'all', 'your', 'love', 'i', 'miss', 'lovin', 'all', 'your', 'kiss', 'i', 'miss', 'kissin', 'all', 'your', 'love', 'i', 'miss', 'lovin', 'all', 'your', 'kiss', 'i', 'miss', 'kissin', 'ever', 'since', 'i', 'left', 'you', 'baby', 'COMMA', 'i', 'never', 'knew', 'what', 'i', 'was', 'missin', 'all', 'your', 'lovin', 'pretty', 'baby', 'that', 'i', 'had', 'in', 'store', 'for', 'you', 'all', 'your', 'lovin', 'pretty', 'baby', 'that', 'i', 'had', 'in', 'store', 'for', 'you', 'what', 'could', 'a', 'poor', 'boy', 'do', 'QM', 'all', 'your', 'lovin', 'pretty', 'baby', 'all', 'your', 'lovin', 'pretty', 'baby', 'all', 'your', 'lovin', 'pretty', 'baby', 'what', 'could', 'a', 'poor', 'boy', 'do', 'QM', 'all', 'your', 'lovin', 'pretty', 'babay', 'all', 'your', 'kissin', 'is', 'kissin', 'all', 'the', 'lovin', 'you', 'gave', 'me', 'pretty', 'babay', 'ever', 'since', 'i', 'left', 'you', 'baby', 'COMMA', 'i', 'never', 'knew', 'what', 'i', 'was', 'missin', 'aaaah', 'END']]\n"
     ]
    }
   ],
   "source": [
    "print(len(words)) #number of songs\n",
    "print(type(words))\n",
    "print(words[:1])"
   ]
  },
  {
   "cell_type": "markdown",
   "metadata": {},
   "source": [
    "## Train Word2Vec Model and build vocabulary"
   ]
  },
  {
   "cell_type": "code",
   "execution_count": 43,
   "metadata": {},
   "outputs": [],
   "source": [
    "#Building vocabulary and Training the word2vec model\n",
    "model = gensim.models.Word2Vec(words,\n",
    "                               iter = 10, #the number of iteration(epochs) over the corpus\n",
    "                               size=300, #the size of the dense vector to represent each token. \n",
    "                               window=10, #the maximum distance between the target word and it's neighboring word.\n",
    "                               min_count=300,\n",
    "                               workers=10)"
   ]
  },
  {
   "cell_type": "markdown",
   "metadata": {},
   "source": [
    "<pre>\n",
    "Parameter\n",
    "-size: the size of dense vector to represent each token. If we have limited data, then size should be a smaller value.\n",
    "-window: the maximum distance between the target word and it's neighboring word. If our data is not sparse, then the size of window should not matter too much, as long as it's not overly narrow or broad.\n",
    "-min_count: minimum frequeny count of words. The model would ignore words that do not satisfy the min_count. Unless our dataset is really tiny, this does not really affect the model in terms of our final result.\n",
    "-workers: how many threads to use behind the scenes?"
   ]
  },
  {
   "cell_type": "markdown",
   "metadata": {},
   "source": [
    "### Check the Word2Vec Model"
   ]
  },
  {
   "cell_type": "code",
   "execution_count": 44,
   "metadata": {},
   "outputs": [
    {
     "name": "stdout",
     "output_type": "stream",
     "text": [
      "[-1.11142302e+00 -1.25211999e-01 -5.11442959e-01 -5.65246999e-01\n",
      " -1.13615763e+00  7.85272568e-02  1.53328836e-01 -1.60290515e+00\n",
      "  7.79382169e-01  1.35915577e+00 -5.79884052e-01 -1.06754184e+00\n",
      " -1.58644676e+00 -2.24273992e+00  7.77719676e-01  5.96262991e-01\n",
      " -1.35669553e+00 -3.36652100e-01 -1.27194846e+00 -5.42419031e-02\n",
      " -5.42716563e-01  3.16798449e-01  1.70218694e+00 -7.60647833e-01\n",
      "  1.26192138e-01  2.08539128e+00  4.04961079e-01 -2.43814990e-01\n",
      "  1.13123095e+00  9.98688698e-01  3.59128147e-01  1.99591184e+00\n",
      "  2.78706908e-01 -1.98150545e-01 -3.31611365e-01  7.72922456e-01\n",
      " -4.95385587e-01 -7.06095636e-01  1.02477610e+00  8.96715105e-01\n",
      " -1.34816408e+00  8.66025269e-01  4.12044585e-01 -1.33489680e+00\n",
      "  4.89209086e-01 -1.06925619e+00  2.04711437e-01  7.21961439e-01\n",
      "  2.35666275e-01 -4.81021613e-01 -9.09425505e-03  1.17468750e+00\n",
      "  6.40136182e-01 -6.22439146e-01  1.33521855e+00  1.03225671e-01\n",
      " -7.44497240e-01  1.00206017e+00  4.00022119e-02 -9.19312239e-01\n",
      " -1.48665458e-02  4.03058559e-01  2.98342407e-01 -3.01536441e-01\n",
      "  1.96085632e-01 -1.07169771e+00  3.87376919e-02 -3.69027734e-01\n",
      "  1.06244934e+00 -3.31816703e-01 -1.12960756e+00  7.99367487e-01\n",
      "  1.72846484e+00  7.55533636e-01  3.67505550e-01 -1.73233163e+00\n",
      " -5.00452578e-01  6.92553639e-01 -8.79224002e-01  1.71076342e-01\n",
      "  3.16556245e-01  9.91463065e-01 -7.41182208e-01 -1.56903327e+00\n",
      "  4.88461077e-01  3.84568036e-01  1.12081897e+00  3.59939098e-01\n",
      "  2.53200114e-01 -1.52591988e-01  2.84856632e-02 -4.02913868e-01\n",
      " -1.90106794e-01  7.35012233e-01  7.66507149e-01 -1.45007476e-01\n",
      " -1.60707879e+00 -9.06953573e-01  4.96724069e-01 -7.00588942e-01\n",
      " -5.13702810e-01 -5.27544856e-01 -8.09981585e-01 -9.32230890e-01\n",
      "  3.03922832e-01  4.88644093e-01 -1.91783977e+00  5.02477884e-01\n",
      " -1.04135275e+00  1.40067112e+00  3.14730096e+00  2.28674555e+00\n",
      " -3.79763246e-02  3.24745089e-01 -7.33948410e-01  2.46083528e-01\n",
      " -1.99225649e-01  2.43967676e+00 -6.21433735e-01 -1.37695730e+00\n",
      " -1.71548700e+00  1.06094575e+00  1.00244265e-02  6.09540306e-02\n",
      "  7.18945861e-01  5.76274157e-01 -3.86861533e-01  2.56762326e-01\n",
      "  8.07928741e-02 -7.45526552e-01  3.97270024e-01 -2.10630465e+00\n",
      " -1.32524490e+00 -1.11510359e-01 -1.34846807e+00  6.00107089e-02\n",
      " -1.09092236e+00  9.51201737e-01 -2.41641545e+00 -2.64713120e+00\n",
      "  1.49118328e+00  5.82520187e-01  5.95609784e-01 -9.37096238e-01\n",
      "  1.60017893e-01 -1.07351407e-01 -3.57753575e-01  5.59684336e-01\n",
      " -1.89218491e-01  1.35589683e+00  2.15630412e+00 -1.22424376e+00\n",
      "  1.19248426e+00  9.26296413e-01 -3.12322050e-01  7.60800064e-01\n",
      "  1.48513007e+00  7.26176441e-01 -3.25361729e-01  1.33587670e+00\n",
      " -2.62364179e-01 -5.05760312e-01 -1.24886560e+00 -8.69585216e-01\n",
      "  1.17968631e+00 -5.41891932e-01  5.91545463e-01  3.89190763e-01\n",
      " -1.51108718e+00 -8.21105421e-01 -1.09260690e+00  8.79703835e-02\n",
      " -1.27474916e+00  9.45817679e-02 -2.22786379e+00 -2.18685716e-01\n",
      "  1.84735882e+00 -9.09485519e-01  1.14486063e+00  8.25212300e-02\n",
      "  1.24668777e-01 -1.52689785e-01  9.33488727e-01 -1.93237865e+00\n",
      " -8.99556220e-01 -2.72863079e-02 -6.52954578e-02  1.25807798e+00\n",
      " -1.32462263e+00  9.22884941e-01  2.47634268e+00  2.91880846e-01\n",
      " -4.00815278e-01 -5.56607842e-01  1.45574033e+00 -1.12613320e+00\n",
      " -2.69249111e-01  8.73746052e-02  1.43037832e+00 -3.50539267e-01\n",
      " -6.80159032e-02 -1.74493581e-01  1.14786163e-01  9.21838507e-02\n",
      "  3.12116504e-01 -7.99645901e-01  4.06005442e-01 -7.67444193e-01\n",
      " -4.24038082e-01 -6.22931302e-01 -1.30142546e+00 -4.43496168e-01\n",
      " -3.17009501e-02  1.55899489e+00 -6.66430891e-01 -1.19391747e-01\n",
      " -5.89170992e-01 -9.39727664e-01 -1.82653987e+00  3.47768873e-01\n",
      " -4.71207052e-01 -5.03362596e-01  2.50698119e-01 -1.30015597e-01\n",
      "  4.41044062e-01  7.18850434e-01 -1.31938732e+00 -2.37966880e-01\n",
      " -1.94836831e+00 -1.34775567e+00 -1.17513037e+00 -3.90986115e-01\n",
      "  1.08110681e-01  5.95935106e-01  1.54546475e+00 -9.48745251e-01\n",
      "  3.27885330e-01  4.49902743e-01  1.37717411e-01  8.40445682e-02\n",
      "  1.21908152e+00  6.35427535e-01 -1.95838857e+00 -1.86119676e-01\n",
      " -1.74974823e+00  2.03424168e+00 -2.44630933e-01  7.59600639e-01\n",
      "  6.89626515e-01  1.45524538e+00 -1.05830753e+00 -1.27299845e-01\n",
      "  2.63446283e+00 -2.51969481e+00  1.30353570e-01  2.96033859e-01\n",
      "  1.68635264e-01  1.07296431e+00  1.27701366e+00  1.67968462e-03\n",
      " -1.32116556e-01 -1.86985743e+00 -5.73045492e-01  4.30152774e-01\n",
      " -3.08552772e-01 -5.07019460e-02 -5.58604598e-01  2.51236498e-01\n",
      "  1.14962733e+00  1.15291643e+00 -7.94188678e-01 -1.90163970e+00\n",
      " -1.73944008e+00  3.67680013e-01  6.88197166e-02  1.35171425e+00\n",
      "  8.57437372e-01 -6.00757711e-02  6.85676217e-01 -3.99829417e-01\n",
      " -1.28804100e+00  1.12320602e+00 -1.02432042e-01  1.24262011e+00\n",
      "  3.82850945e-01 -1.00286162e+00 -5.69108367e-01 -4.57109421e-01\n",
      " -2.18907952e+00  1.27546668e-01 -1.20576441e+00 -2.26833865e-01\n",
      "  4.06534821e-01  7.35941768e-01 -2.09458876e+00  8.46602201e-01\n",
      "  6.17638052e-01  1.24804604e+00  7.30901182e-01  4.39913779e-01]\n"
     ]
    }
   ],
   "source": [
    "#get the word vector of \"love\"\n",
    "print(model.wv['love'])"
   ]
  },
  {
   "cell_type": "code",
   "execution_count": 45,
   "metadata": {},
   "outputs": [
    {
     "data": {
      "text/plain": [
       "[('true', 0.4305379390716553),\n",
       " ('loving', 0.3927651345729828),\n",
       " ('darlin', 0.39258623123168945),\n",
       " ('heart', 0.3826485574245453),\n",
       " ('forever', 0.3725454807281494),\n",
       " ('need', 0.3721637427806854)]"
      ]
     },
     "execution_count": 45,
     "metadata": {},
     "output_type": "execute_result"
    }
   ],
   "source": [
    "#to look at some output\n",
    "w1 = ['love']\n",
    "model.wv.most_similar(positive=w1, topn=6)"
   ]
  },
  {
   "cell_type": "code",
   "execution_count": 46,
   "metadata": {},
   "outputs": [
    {
     "data": {
      "text/plain": [
       "[('fuck', 0.44234275817871094),\n",
       " ('sick', 0.354320228099823),\n",
       " ('kill', 0.29552358388900757),\n",
       " ('damn', 0.28477805852890015),\n",
       " ('hurt', 0.2837088704109192),\n",
       " ('cannot', 0.2563170790672302)]"
      ]
     },
     "execution_count": 46,
     "metadata": {},
     "output_type": "execute_result"
    }
   ],
   "source": [
    "#to look at some output\n",
    "w2 = ['hate']\n",
    "model.wv.most_similar(positive=w2, topn=6)"
   ]
  },
  {
   "cell_type": "code",
   "execution_count": 47,
   "metadata": {},
   "outputs": [
    {
     "data": {
      "text/plain": [
       "[('across', 0.350131630897522),\n",
       " ('mountains', 0.3389695882797241),\n",
       " ('darkness', 0.33176591992378235),\n",
       " ('dark', 0.32518038153648376),\n",
       " ('clouds', 0.3183096647262573),\n",
       " ('midnight', 0.31389111280441284),\n",
       " ('in', 0.293523907661438),\n",
       " ('shadows', 0.28748708963394165),\n",
       " ('sea', 0.28474926948547363),\n",
       " ('flying', 0.276859849691391)]"
      ]
     },
     "execution_count": 47,
     "metadata": {},
     "output_type": "execute_result"
    }
   ],
   "source": [
    "#to look at some output\n",
    "w3 = ['somewhere', 'over', 'the']\n",
    "model.wv.most_similar(positive=w3, topn=10)"
   ]
  },
  {
   "cell_type": "code",
   "execution_count": 49,
   "metadata": {},
   "outputs": [
    {
     "data": {
      "text/plain": [
       "0.2968498026221288"
      ]
     },
     "execution_count": 49,
     "metadata": {},
     "output_type": "execute_result"
    }
   ],
   "source": [
    "#similarity between two words\n",
    "model.wv.similarity(w1=\"sky\", w2=\"blue\")"
   ]
  },
  {
   "cell_type": "code",
   "execution_count": 50,
   "metadata": {},
   "outputs": [
    {
     "name": "stdout",
     "output_type": "stream",
     "text": [
      "0.5518356032018431 0.5028784383492836\n"
     ]
    }
   ],
   "source": [
    "#similarity between two words\n",
    "print(model.wv.similarity('woman', 'man'), model.wv.similarity('queen', 'king'))"
   ]
  },
  {
   "cell_type": "code",
   "execution_count": 51,
   "metadata": {},
   "outputs": [
    {
     "name": "stdout",
     "output_type": "stream",
     "text": [
      "#i:    COMMA\n",
      "#i:    the\n",
      "#i:    i\n",
      "#i:    you\n",
      "#i:    and\n",
      "#i:    to\n",
      "#i:    a\n",
      "#i:    me\n",
      "#i:    my\n",
      "#i:    in\n",
      "#i:    EOS\n",
      "#i:    of\n",
      "#i:    it\n",
      "#i:    your\n",
      "#i:    on\n",
      "#i:    that\n",
      "#i:    love\n",
      "#i:    all\n",
      "#i:    im\n",
      "#i:    be\n",
      "#i:    for\n",
      "#i:    is\n",
      "#i:    dont\n",
      "#i:    but\n",
      "#i:    its\n",
      "#i:    so\n",
      "#i:    just\n",
      "#i:    we\n",
      "#i:    know\n",
      "#i:    with\n",
      "#i:    END\n",
      "#i:    no\n",
      "#i:    oh\n",
      "#i:    when\n",
      "#i:    like\n",
      "#i:    can\n",
      "#i:    do\n",
      "#i:    got\n",
      "#i:    now\n",
      "#i:    if\n",
      "#i:    this\n",
      "#i:    what\n",
      "#i:    was\n",
      "#i:    down\n",
      "#i:    up\n",
      "#i:    one\n",
      "#i:    time\n",
      "#i:    QM\n",
      "#i:    youre\n",
      "#i:    baby\n"
     ]
    }
   ],
   "source": [
    "#get the most common 50 words\n",
    "for i in range(50):\n",
    "    print(\"#i:   \", model.wv.index2word[i])"
   ]
  },
  {
   "cell_type": "code",
   "execution_count": 52,
   "metadata": {},
   "outputs": [
    {
     "data": {
      "text/plain": [
       "'C:\\\\Users\\\\snuist\\\\Desktop\\\\Git\\\\text-generator'"
      ]
     },
     "execution_count": 52,
     "metadata": {},
     "output_type": "execute_result"
    }
   ],
   "source": [
    "os.getcwd()\n",
    "\n",
    "##save and reload the model\n",
    "#model.save(\"word2vec_model\")\n",
    "#model = gensim.models.Word2Vec.load(\"word2vec_model\")"
   ]
  },
  {
   "cell_type": "markdown",
   "metadata": {},
   "source": [
    "## T-SNE Visualization"
   ]
  },
  {
   "cell_type": "code",
   "execution_count": 37,
   "metadata": {},
   "outputs": [],
   "source": [
    "def tsne_plot(model):\n",
    "    \"Creates and TSNE model and plots it\"\n",
    "    labels = []\n",
    "    tokens = []\n",
    "    \n",
    "    STOP_WORDS = nltk.corpus.stopwords.words() #delete some words to make plot clear\n",
    "    REPLACED_WORDS = ['EOS', 'QM', 'EM', 'COMMA', 'END']\n",
    "    STOP_WORDS.extend(REPLACED_WORDS)\n",
    "    \n",
    "    for word in model.wv.vocab:        \n",
    "        if word not in STOP_WORDS:\n",
    "            tokens.append(model.wv[word])\n",
    "            labels.append(word)\n",
    "\n",
    "    tsne_model = TSNE(perplexity=40, n_components=2, init='pca', n_iter=250, random_state=23)\n",
    "    new_values = tsne_model.fit_transform(tokens)\n",
    "\n",
    "    x = []\n",
    "    y = []\n",
    "    for value in new_values:\n",
    "        x.append(value[0])\n",
    "        y.append(value[1])\n",
    "\n",
    "    plt.figure(figsize=(16, 16)) \n",
    "    for i in range(len(x)):\n",
    "        plt.scatter(x[i],y[i])\n",
    "        plt.annotate(labels[i],\n",
    "                     xy=(x[i], y[i]),\n",
    "                     xytext=(5, 2),\n",
    "                     textcoords='offset points',\n",
    "                     ha='right',\n",
    "                     va='bottom')\n",
    "                \n",
    "    plt.show()"
   ]
  },
  {
   "cell_type": "markdown",
   "metadata": {},
   "source": [
    "<pre>\n",
    "TSNE_paramters\n",
    "- perpiexity: The perplexity is related to the number of neares neigbors that is used in other manifold learning algorithms. larger datasets usually require a larger perplexity. usually consider a value 5~50 but not extremly critical since T-SNE is quite insensitive to this paramter.\n",
    "- n_components: Dimension of the embedded space. #default:2 dim\n",
    "- init: initialization of embedding. possible option is random/pca/numpy array of shape. pca initialization cannot be used with precomputed distances and is usally more globally stable than random initialization.\n",
    "- n_iter: maximum number of iterations for the optimization. should be at least 250.\n",
    "- random_state: Pseudo random number generator seed control. If None, use the numpy.random singleton."
   ]
  },
  {
   "cell_type": "code",
   "execution_count": 53,
   "metadata": {},
   "outputs": [
    {
     "data": {
      "image/png": "[encoded data removed]",
      "text/plain": [
       "<Figure size 1152x1152 with 1 Axes>"
      ]
     },
     "metadata": {},
     "output_type": "display_data"
    }
   ],
   "source": [
    "tsne_plot(model)"
   ]
  },
  {
   "cell_type": "markdown",
   "metadata": {},
   "source": [
    "## add"
   ]
  },
  {
   "cell_type": "code",
   "execution_count": 21,
   "metadata": {},
   "outputs": [],
   "source": [
    "def create_embedding_matrix(model):\n",
    "    # convert the wv word vectors into a numpy matrix that is suitable for insertion\n",
    "    # into TensorFlow or Keras models\n",
    "    embedding_matrix = np.zeros((len(model.wv.vocab), vector_dim))\n",
    "    for i in range(len(model.wv.vocab)):\n",
    "        embedding_vector = model.wv[model.wv.index2word[i]]\n",
    "        if embedding_vector is not None:\n",
    "            embedding_matrix[i] = embedding_vector\n",
    "    return embedding_matrix"
   ]
  },
  {
   "cell_type": "code",
   "execution_count": 24,
   "metadata": {},
   "outputs": [
    {
     "data": {
      "text/plain": [
       "array([[ 0.17017898, -0.55816996,  0.10880011, ..., -0.55022764,\n",
       "        -0.53557616,  0.39784628],\n",
       "       [ 0.61781871,  1.28828919,  1.31865263, ..., -0.86943537,\n",
       "         0.29751059,  0.6118561 ],\n",
       "       [ 0.03564065, -0.90311396, -0.03055992, ...,  0.69983315,\n",
       "        -0.09140585, -1.13419271],\n",
       "       ...,\n",
       "       [ 0.43963692, -0.75920123,  1.4358989 , ..., -0.44081855,\n",
       "        -1.31761897, -0.25687832],\n",
       "       [ 0.4735989 , -1.67026687,  0.5699541 , ..., -0.03009037,\n",
       "         0.14124617, -0.85934556],\n",
       "       [-0.96901816, -0.70971286,  0.54715157, ..., -0.19076252,\n",
       "         1.71859622,  0.0113165 ]])"
      ]
     },
     "execution_count": 24,
     "metadata": {},
     "output_type": "execute_result"
    }
   ],
   "source": [
    "vector_dim = 300\n",
    "embedding_matrix = create_embedding_matrix(model)\n",
    "embedding_matrix"
   ]
  },
  {
   "cell_type": "code",
   "execution_count": null,
   "metadata": {},
   "outputs": [],
   "source": []
  }
 ],
 "metadata": {
  "kernelspec": {
   "display_name": "Python 3",
   "language": "python",
   "name": "python3"
  },
  "language_info": {
   "codemirror_mode": {
    "name": "ipython",
    "version": 3
   },
   "file_extension": ".py",
   "mimetype": "text/x-python",
   "name": "python",
   "nbconvert_exporter": "python",
   "pygments_lexer": "ipython3",
   "version": "3.6.4"
  }
 },
 "nbformat": 4,
 "nbformat_minor": 2
}
